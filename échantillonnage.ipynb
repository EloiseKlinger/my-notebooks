{
  "nbformat": 4,
  "nbformat_minor": 0,
  "metadata": {
    "colab": {
      "provenance": [],
      "include_colab_link": true
    },
    "kernelspec": {
      "name": "python3",
      "display_name": "Python 3"
    },
    "language_info": {
      "name": "python"
    }
  },
  "cells": [
    {
      "cell_type": "markdown",
      "metadata": {
        "id": "view-in-github",
        "colab_type": "text"
      },
      "source": [
        "<a href=\"https://colab.research.google.com/github/EloiseKlinger/my-notebooks/blob/main/%C3%A9chantillonnage.ipynb\" target=\"_parent\"><img src=\"https://colab.research.google.com/assets/colab-badge.svg\" alt=\"Open In Colab\"/></a>"
      ]
    },
    {
      "cell_type": "markdown",
      "source": [
        "MathMax seconde : Exercice 2/3/4 page 243"
      ],
      "metadata": {
        "id": "velTjny4F38L"
      }
    },
    {
      "cell_type": "code",
      "source": [
        "# Importation de la bibliothèque random pour générer des nombres aléatoires\n",
        "import random\n",
        "\n",
        "def Pouf(n):\n",
        "    \"\"\"\n",
        "    Cette fonction simule un échantillon de taille n d'une expérience de lancer\n",
        "    d'une pièce déséquilibrée où \"pile\" est trois fois plus probable que \"face\".\n",
        "\n",
        "    Arguments :\n",
        "    - n : Nombre de lancers de la pièce.\n",
        "\n",
        "    Retourne :\n",
        "    - Une liste contenant les résultats des n lancers (\"pile\" ou \"face\").\n",
        "    \"\"\"\n",
        "    # Initialisation d'une liste vide pour stocker les résultats\n",
        "    resultats = []\n",
        "\n",
        "    # Boucle pour effectuer n lancers\n",
        "    for _ in range(n):\n",
        "        # Génération d'un nombre aléatoire entre 0 et 1\n",
        "        # Si le nombre est inférieur à 0.75, on considère que c'est \"pile\"\n",
        "        # Sinon, c'est \"face\"\n",
        "        if random.random() < 0.75:  # Probabilité de pile = 75%\n",
        "            resultats.append(\"pile\")\n",
        "        else:\n",
        "            resultats.append(\"face\")\n",
        "\n",
        "    return resultats\n",
        "\n",
        "def FreqPouf(echantillon):\n",
        "    \"\"\"\n",
        "    Cette fonction calcule la fréquence de \"pile\" dans un échantillon.\n",
        "\n",
        "    Arguments :\n",
        "    - echantillon : Liste contenant les résultats des lancers (\"pile\" ou \"face\").\n",
        "\n",
        "    Retourne :\n",
        "    - la fréquence de \"pile\"\n",
        "    \"\"\"\n",
        "    # Comptage du nombre de \"pile\" dans l'échantillon\n",
        "    nb_pile = echantillon.count(\"pile\")\n",
        "\n",
        "    # Calcul des fréquences en divisant par la taille totale de l'échantillon\n",
        "    taille_echantillon = len(echantillon)\n",
        "    freq_pile = nb_pile / taille_echantillon\n",
        "\n",
        "    return freq_pile\n",
        "\n",
        "# On simule 100 lancers d'une pièce déséquilibrée\n",
        "n = 100\n",
        "echantillon = Pouf(n)\n",
        "\n",
        "# Affichage des résultats des lancers\n",
        "print(\"Résultats des lancers :\", echantillon)\n",
        "\n",
        "# Calcul et affichage de la fréquence de pile\n",
        "frequence = FreqPouf(echantillon)\n",
        "print(\"Fréquence de pile:\", frequence)\n"
      ],
      "metadata": {
        "colab": {
          "base_uri": "https://localhost:8080/"
        },
        "id": "tQ8jGBYNFGCM",
        "outputId": "2e1b4848-eea1-4877-b2d8-934bca84ff86"
      },
      "execution_count": null,
      "outputs": [
        {
          "output_type": "stream",
          "name": "stdout",
          "text": [
            "Résultats des lancers : ['face', 'pile', 'pile', 'pile', 'pile', 'pile', 'pile', 'face', 'pile', 'face', 'pile', 'pile', 'pile', 'pile', 'pile', 'pile', 'face', 'pile', 'pile', 'face', 'pile', 'pile', 'pile', 'pile', 'pile', 'pile', 'pile', 'face', 'face', 'face', 'pile', 'pile', 'face', 'pile', 'pile', 'pile', 'pile', 'pile', 'pile', 'pile', 'pile', 'pile', 'face', 'face', 'face', 'pile', 'pile', 'pile', 'pile', 'pile', 'pile', 'pile', 'face', 'pile', 'pile', 'face', 'pile', 'face', 'face', 'pile', 'pile', 'face', 'pile', 'pile', 'pile', 'pile', 'face', 'pile', 'pile', 'pile', 'pile', 'pile', 'pile', 'face', 'pile', 'pile', 'pile', 'face', 'face', 'face', 'pile', 'face', 'pile', 'face', 'pile', 'pile', 'face', 'pile', 'pile', 'pile', 'pile', 'pile', 'face', 'face', 'pile', 'pile', 'pile', 'pile', 'pile', 'face']\n",
            "Fréquence de pile: 0.72\n"
          ]
        }
      ]
    },
    {
      "cell_type": "code",
      "source": [
        "import math\n",
        "\n",
        "def EcartPouf(N, n):\n",
        "    \"\"\"\n",
        "    Calcule la proportion des cas où |p-f|<1/racine(n)\n",
        "\n",
        "    Arguments :\n",
        "    - N : Nombre d'échantillons.\n",
        "    - n : Taille de chaque échantillon.\n",
        "\n",
        "    Retourne :\n",
        "    - La proportion des cas où l'écart est inférieur à 1 / √n.\n",
        "    \"\"\"\n",
        "    compteur = 0  # Compteur pour les cas où la condition |p-f|<1/racine(n) est respectée\n",
        "    seuil = 1 / math.sqrt(n)  # Seuil défini comme 1 / √n\n",
        "    p=0.75  # 75% de pile pour notre pièce truquée\n",
        "\n",
        "    for _ in range(N):\n",
        "        # Génération d'un échantillon avec Pouf\n",
        "        echantillon = Pouf(n)\n",
        "\n",
        "        # Calcul de fréquence avec FreqPouf\n",
        "        f = FreqPouf(echantillon)\n",
        "\n",
        "        # Calcul de l'écart absolu\n",
        "        ecart = abs(f-p)\n",
        "\n",
        "        # Vérification si l'écart est inférieur au seuil\n",
        "        if ecart < seuil:\n",
        "            compteur += 1\n",
        "\n",
        "    # Calcul de la proportion\n",
        "    proportion = compteur / N\n",
        "    return proportion\n",
        "\n",
        "# Exemple d'utilisation\n",
        "N = 100000  # Nombre d'échantillons\n",
        "n = 100   # Taille de chaque échantillon\n",
        "\n",
        "# Calcul et affichage du résultat\n",
        "proportion_ecarts_inferieurs = EcartPouf(N, n)\n",
        "print(f\"Proportion des cas où l'écart est inférieur à 1 / √{n} : {proportion_ecarts_inferieurs:.4f}\")\n"
      ],
      "metadata": {
        "colab": {
          "base_uri": "https://localhost:8080/"
        },
        "id": "Vwkhc-dHIq2p",
        "outputId": "b637b4f7-268e-4ff6-95f8-4baf6925c2e0"
      },
      "execution_count": null,
      "outputs": [
        {
          "output_type": "stream",
          "name": "stdout",
          "text": [
            "Proportion des cas où l'écart est inférieur à 1 / √100 : 0.9849\n"
          ]
        }
      ]
    }
  ]
}